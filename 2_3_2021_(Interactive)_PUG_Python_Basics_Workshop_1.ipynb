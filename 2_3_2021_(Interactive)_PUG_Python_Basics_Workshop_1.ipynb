{
  "nbformat": 4,
  "nbformat_minor": 0,
  "metadata": {
    "colab": {
      "provenance": [],
      "include_colab_link": true
    },
    "kernelspec": {
      "name": "python3",
      "display_name": "Python 3"
    },
    "language_info": {
      "name": "python"
    }
  },
  "cells": [
    {
      "cell_type": "markdown",
      "metadata": {
        "id": "view-in-github",
        "colab_type": "text"
      },
      "source": [
        "<a href=\"https://colab.research.google.com/github/jfitch5/demo/blob/main/2_3_2021_(Interactive)_PUG_Python_Basics_Workshop_1.ipynb\" target=\"_parent\"><img src=\"https://colab.research.google.com/assets/colab-badge.svg\" alt=\"Open In Colab\"/></a>"
      ]
    },
    {
      "cell_type": "markdown",
      "metadata": {
        "id": "C3XBzwxfNLrR"
      },
      "source": [
        "**Print Statements**"
      ]
    },
    {
      "cell_type": "code",
      "source": [
        "### Interactive Exercise ###\n",
        "\n",
        "# Fill in the blank to print out your name:\n",
        "print(\"James Fitch\")\n",
        "\n",
        "# Fill in the blanks to print out your first and last name using variables:\n",
        "first_name = \"James\"\n",
        "last_name = \"Fitch\"\n",
        "\n",
        "\n",
        "print(first_name,last_name)\n",
        "\n",
        "# Fill in the blanks to print out the greeting and your name in the form \"Last, First\"\n",
        "# Ex. \"Hello, nice to meet you! My name is Last, First\"\n",
        "greeting = \"Hello, nice to meet you! My name is \"\n",
        "\n",
        "print(greeting, first_name + \" \" + last_name + \" \")"
      ],
      "metadata": {
        "id": "OQNrLI7tLZdu",
        "colab": {
          "base_uri": "https://localhost:8080/"
        },
        "outputId": "9cd23b9b-5623-4016-a4f7-29ea759aa757"
      },
      "execution_count": null,
      "outputs": [
        {
          "output_type": "stream",
          "name": "stdout",
          "text": [
            "James Fitch\n",
            "James Fitch\n",
            "Hello, nice to meet you! My name is  James Fitch \n"
          ]
        }
      ]
    },
    {
      "cell_type": "markdown",
      "metadata": {
        "id": "SOCxbvUa1d0u"
      },
      "source": [
        "**Data\n",
        "Types & Variables**"
      ]
    },
    {
      "cell_type": "code",
      "source": [
        "### Interactive Exercise ###\n",
        "\n",
        "# Create an integer variable with a value of 4\n",
        "num1 = 4\n",
        "# Create a float variable with a value of 1.23\n",
        "num2 = 1.23\n",
        "\n",
        "# Create a variable to hold a complex number with a value of 2 + 4i\n",
        "# (Hint: Python uses 'j' to represent 'i')\n",
        "num3 = 2 + 4j\n",
        "\n",
        "# Create a string variable with the value of \"PUG\"\n",
        "string = \"PUG\"\n",
        "\n",
        "# Print out all four variables that you created along with their type\n",
        "# (Hint: use the type() function)\n",
        "print(\"Integer variable:\", num1, \"Type:\", \"int\")\n",
        "print(\"Float variable:\", num2, \"Type:\", \"float\")\n",
        "print(\"Complex number:\", num3, \"Type:\", \"variable\")\n",
        "print(\"String variable:\", \"PUG\", \"Type:\", \"string\")"
      ],
      "metadata": {
        "id": "vLVstGnPNb1R",
        "colab": {
          "base_uri": "https://localhost:8080/"
        },
        "outputId": "f8daae81-339c-4599-9bd9-94d172e05b67"
      },
      "execution_count": null,
      "outputs": [
        {
          "output_type": "stream",
          "name": "stdout",
          "text": [
            "Integer variable: 4 Type: int\n",
            "Float variable: 1.23 Type: float\n",
            "Complex number: (2+4j) Type: variable\n",
            "String variable: PUG Type: string\n"
          ]
        }
      ]
    },
    {
      "cell_type": "markdown",
      "metadata": {
        "id": "RYHtBzNQ2XZn"
      },
      "source": [
        "**Operators**"
      ]
    },
    {
      "cell_type": "code",
      "source": [
        "### Interactive Exercise ###\n",
        "\n",
        "# Import the `math` library\n",
        "import math\n",
        "\n",
        "## Use operators to evaluate the following problems:\n",
        "\n",
        "# What is 120549 plus 859234?\n",
        "expression_1 = 120549 + 859234\n",
        "\n",
        "print(\"Expression 1:\", expression_1)\n",
        "\n",
        "# What is 429308 minus 238429?\n",
        "expression_2 = 429308 - 238429\n",
        "\n",
        "print(\"Expression 2:\",expression_2)\n",
        "\n",
        "# What is 1024 divided by 2 divided by 2 divided by 2?\n",
        "expression_3 = 1024/2/2/2\n",
        "\n",
        "print(\"Expression 3:\",expression_3)\n",
        "\n",
        "# What is 64 multiplied by 2 multiplied by 2 multiplied by 2?\n",
        "expression_4 = 64*2*2*2\n",
        "\n",
        "print(\"Expression 4:\",expression_4)\n",
        "\n",
        "# Complete the last two problems using the exponent operator (if you didn't use it already).\n",
        "expression_5 = 64**2\n",
        "expression_6 = 1024//2\n",
        "\n",
        "print(\"Expression 5:\",expression_5)\n",
        "print(\"Expression 6:\", expression_6)\n",
        "\n",
        "# How many times can the number 6 can go into 823474?\n",
        "# (Hint: use integer division)\n",
        "expression_7 = 6/823474\n",
        "\n",
        "print(\"Expression 7:\", expression_7)\n",
        "\n",
        "# What is the remainder of the previous problem?\n",
        "expression_8 = 6%823474\n",
        "\n",
        "print(\"Expression 8:\", expression_8)\n",
        "\n",
        "# Evaluate 26 plus 194 times 54 minus 206 divided by 2\n",
        "expression_9 = 26 + 194 * 54 - 206 / 2\n",
        "\n",
        "print(\"Expression 9:\", expression_9)\n",
        "\n",
        "# Increment (add 1 to) the value of the previous expression\n",
        "expression_10 = expression_9+1\n",
        "\n",
        "print(\"Expression 10:\", expression_10)\n",
        "\n",
        "# Take the square root of the previous expression\n",
        "expression_11 = math.sqrt(expression_10)\n",
        "\n",
        "print(\"Expression 11:\", expression_11)"
      ],
      "metadata": {
        "id": "dli54iODPg9z",
        "colab": {
          "base_uri": "https://localhost:8080/"
        },
        "outputId": "708fbc9a-37fe-4f1b-86b4-4363db885f76"
      },
      "execution_count": null,
      "outputs": [
        {
          "output_type": "stream",
          "name": "stdout",
          "text": [
            "Expression 1: 979783\n",
            "Expression 2: 190879\n",
            "Expression 3: 128.0\n",
            "Expression 4: 512\n",
            "Expression 5: 4096\n",
            "Expression 6: 512\n",
            "Expression 7: 7.2862045431914064e-06\n",
            "Expression 8: 6\n",
            "Expression 9: 10399.0\n",
            "Expression 10: 10400.0\n",
            "Expression 11: 101.9803902718557\n"
          ]
        }
      ]
    },
    {
      "cell_type": "markdown",
      "metadata": {
        "id": "cvQfrMloNmIM"
      },
      "source": [
        "**Conditional Statements and While Loops**"
      ]
    },
    {
      "cell_type": "code",
      "source": [
        "### Interactive Exercise ###\n",
        "\n",
        "## NOTES\n",
        "# Python comparison operators: ==, !=, >, <, <=, >=\n",
        "# Python logical operators: and, or, not\n",
        "# Python identity operators: is, is not\n",
        "\n",
        "# Make a conditional statement that checks if 2 is equal to 2 (should be true)\n",
        "if 2 == 2:\n",
        "  print(True)\n",
        "else:\n",
        "  print(False)\n",
        "\n",
        "# Make a conditional statement that checks if 2 is equal to 2 OR if 2 is equal to 3 (should be true)\n",
        "if 2 == 2 or 2 == 3:\n",
        "  print(True)\n",
        "else:\n",
        "  print(False)\n",
        "\n",
        "# Make a conditional statement that checks if 2 is equal to 2 AND if 2 is equal to 3 (should be false)\n",
        "if 2 == 2 and 2 == 3:\n",
        "  print(True)\n",
        "else:\n",
        "  print(False)\n",
        "\n",
        "# Make a conditional statement that checks if 2 is NOT equal to 3 (should be true)\n",
        "if 2 != 3:\n",
        "  print(True)\n",
        "else:\n",
        "  print(False)\n",
        "\n",
        "# Make a conditional statement that first checks if 2 is equal to 3 (should be false),\n",
        "# Then check using an elif statement whether 2 is equal to 2 (should be true)\n",
        "if 2 == 3:\n",
        "  print(False)\n",
        "elif 2 == 2:\n",
        "  print(True)\n",
        "else:\n",
        "  print(False)\n",
        "\n",
        "# Make a while loop that loops 3 times using the variable count\n",
        "count = 0\n",
        "while count < 3:\n",
        "  count = count + 1\n",
        "  print(count)\n",
        "\n"
      ],
      "metadata": {
        "id": "XpHzbabRZ12X",
        "colab": {
          "base_uri": "https://localhost:8080/"
        },
        "outputId": "47c4091b-ca3b-4e3e-a16e-aa6666077614"
      },
      "execution_count": null,
      "outputs": [
        {
          "output_type": "stream",
          "name": "stdout",
          "text": [
            "True\n",
            "True\n",
            "False\n",
            "True\n",
            "True\n",
            "1\n",
            "2\n",
            "3\n"
          ]
        }
      ]
    },
    {
      "cell_type": "markdown",
      "metadata": {
        "id": "kd9cIgBKNtSP"
      },
      "source": [
        "**For Loops**"
      ]
    },
    {
      "cell_type": "code",
      "source": [
        "### Interactive Exercise ###\n",
        "\n",
        "## NOTES\n",
        "# The range(a, b, c) function counts from a to b with a step size of c\n",
        "# The arange() function does the same as the range() function, but allows for float values\n",
        "\n",
        "# Create a for-loop that loops 10 times using the range function\n",
        "for x in range(0,10):\n",
        "  print(x)\n",
        "\n",
        "# Create a for-loop that loops through the range 0-30 counting by 3\n",
        "for y in range(0,30,3):\n",
        "  print(y)\n",
        "\n",
        "# Create a for-loop that loops through the range 0-3 counting by 0.3\n",
        "# (Hint: import the arange library)\n",
        "from numpy import arange\n",
        "for z in arange(0, 3, 0.3):\n",
        "  print(z)"
      ],
      "metadata": {
        "id": "7_bY26kNdMzi",
        "colab": {
          "base_uri": "https://localhost:8080/"
        },
        "outputId": "f789a9fe-644e-4f5e-8f66-7f2c84266d2a"
      },
      "execution_count": null,
      "outputs": [
        {
          "output_type": "stream",
          "name": "stdout",
          "text": [
            "0\n",
            "1\n",
            "2\n",
            "3\n",
            "4\n",
            "5\n",
            "6\n",
            "7\n",
            "8\n",
            "9\n",
            "0\n",
            "3\n",
            "6\n",
            "9\n",
            "12\n",
            "15\n",
            "18\n",
            "21\n",
            "24\n",
            "27\n",
            "0.0\n",
            "0.3\n",
            "0.6\n",
            "0.8999999999999999\n",
            "1.2\n",
            "1.5\n",
            "1.7999999999999998\n",
            "2.1\n",
            "2.4\n",
            "2.6999999999999997\n"
          ]
        }
      ]
    }
  ]
}